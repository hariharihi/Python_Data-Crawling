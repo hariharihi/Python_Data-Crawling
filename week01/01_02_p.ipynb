{
 "cells": [
  {
   "cell_type": "markdown",
   "id": "62890675",
   "metadata": {},
   "source": [
    "# 변수 지정하기"
   ]
  },
  {
   "cell_type": "markdown",
   "id": "e7408de7",
   "metadata": {},
   "source": [
    "나이, 이름, 키, 몸무게, 발사이즈, 안경 유무, 결혼 유무, 성별, 취미, 특기"
   ]
  },
  {
   "cell_type": "code",
   "execution_count": 3,
   "id": "625858c2",
   "metadata": {},
   "outputs": [],
   "source": [
    "age = 24\n",
    "name = \"Hari\"\n",
    "height = 161\n",
    "weight = 50\n",
    "foot_size = 245\n",
    "glass = False\n",
    "marriage = False\n",
    "gender = \"female\"\n",
    "hobby = \"movies\"\n",
    "specialty = \"product management\""
   ]
  },
  {
   "cell_type": "markdown",
   "id": "e592f477",
   "metadata": {},
   "source": [
    "반지름(r=10)을 선선한 뒤, 이를 이용해 원의 지름, 둘레 (2*pi*r), 넓이(pi*r의 2승)을 가각 출력하는 파이썬 파일 만들기 (pi=3.1415)"
   ]
  },
  {
   "cell_type": "code",
   "execution_count": 6,
   "id": "e83574d2",
   "metadata": {},
   "outputs": [
    {
     "name": "stdout",
     "output_type": "stream",
     "text": [
      "지름은? 20\n",
      "둘레는? 62.830000000000005\n",
      "넓이는? 314.15000000000003\n"
     ]
    }
   ],
   "source": [
    "r = 10\n",
    "pi = 3.1415\n",
    "\n",
    "diameter = r * 2\n",
    "circum = r * 2 * pi\n",
    "area = r ** 2 * pi\n",
    "\n",
    "print(\"지름은?\", diameter)\n",
    "print(\"둘레는?\", circum)\n",
    "print(\"넓이는?\", area)"
   ]
  },
  {
   "cell_type": "markdown",
   "id": "30a0e053",
   "metadata": {},
   "source": [
    "# input"
   ]
  },
  {
   "cell_type": "code",
   "execution_count": 2,
   "id": "7881ebad",
   "metadata": {},
   "outputs": [
    {
     "name": "stdout",
     "output_type": "stream",
     "text": [
      "Hello, What is your name? > Hari\n",
      "Hi Hari nice to meet you!\n"
     ]
    }
   ],
   "source": [
    "name = input(\"Hello, What is your name? > \") #input의 default 형식: string \n",
    "print(\"Hi\", name, \"nice to meet you!\")"
   ]
  },
  {
   "cell_type": "code",
   "execution_count": 3,
   "id": "276f1090",
   "metadata": {},
   "outputs": [
    {
     "data": {
      "text/plain": [
       "'Hari'"
      ]
     },
     "execution_count": 3,
     "metadata": {},
     "output_type": "execute_result"
    }
   ],
   "source": [
    "name #input의 default 형식: string "
   ]
  },
  {
   "cell_type": "markdown",
   "id": "f2eb6266",
   "metadata": {},
   "source": [
    "# datatype 변환\n",
    "- type(): datatype 확인하기\n",
    "- int, float, str, bool"
   ]
  },
  {
   "cell_type": "code",
   "execution_count": 32,
   "id": "4e3f994e",
   "metadata": {},
   "outputs": [
    {
     "data": {
      "text/plain": [
       "3.0"
      ]
     },
     "execution_count": 32,
     "metadata": {},
     "output_type": "execute_result"
    }
   ],
   "source": [
    "float(3)"
   ]
  },
  {
   "cell_type": "code",
   "execution_count": 33,
   "id": "bd0d52a6",
   "metadata": {},
   "outputs": [
    {
     "data": {
      "text/plain": [
       "3"
      ]
     },
     "execution_count": 33,
     "metadata": {},
     "output_type": "execute_result"
    }
   ],
   "source": [
    "int(3.6)"
   ]
  },
  {
   "cell_type": "code",
   "execution_count": 34,
   "id": "5dddfb07",
   "metadata": {},
   "outputs": [
    {
     "data": {
      "text/plain": [
       "'1'"
      ]
     },
     "execution_count": 34,
     "metadata": {},
     "output_type": "execute_result"
    }
   ],
   "source": [
    "str(1)"
   ]
  },
  {
   "cell_type": "code",
   "execution_count": 37,
   "id": "b460481d",
   "metadata": {},
   "outputs": [
    {
     "name": "stdout",
     "output_type": "stream",
     "text": [
      "<class 'float'>\n"
     ]
    }
   ],
   "source": [
    "digit_str = \"123\"\n",
    "digit_int = int(digit_str)\n",
    "print(type(float(digit_int)))"
   ]
  },
  {
   "cell_type": "code",
   "execution_count": 39,
   "id": "8958228c",
   "metadata": {},
   "outputs": [
    {
     "name": "stdout",
     "output_type": "stream",
     "text": [
      "How old are you? 24\n"
     ]
    },
    {
     "data": {
      "text/plain": [
       "24"
      ]
     },
     "execution_count": 39,
     "metadata": {},
     "output_type": "execute_result"
    }
   ],
   "source": [
    "int(input(\"How old are you? \"))"
   ]
  },
  {
   "cell_type": "code",
   "execution_count": 40,
   "id": "a4715713",
   "metadata": {},
   "outputs": [
    {
     "name": "stdout",
     "output_type": "stream",
     "text": [
      "2\n",
      "4\n",
      "8\n"
     ]
    }
   ],
   "source": [
    "digit1 = int(input())\n",
    "digit2 = int(input())\n",
    "\n",
    "print(digit1 * digit2)"
   ]
  },
  {
   "cell_type": "markdown",
   "id": "8f79db64",
   "metadata": {},
   "source": [
    "# string\n",
    "\"\"\" 3개 하면 여러줄의 string을 변수 안에 넣을 수 있다"
   ]
  },
  {
   "cell_type": "markdown",
   "id": "da6478cc",
   "metadata": {},
   "source": [
    "## string"
   ]
  },
  {
   "cell_type": "code",
   "execution_count": 6,
   "id": "3ede4909",
   "metadata": {},
   "outputs": [],
   "source": [
    "article = \"\"\"South Korean director Bong Joon-ho has won the Cannes film festival's most prestigious award.\n",
    "\n",
    "The Palme d'Or was awarded for his film Parasite, a dark comedy thriller exploring social class dynamics.\n",
    "\n",
    "The festival came to a close this evening after 11 days of previews of new films and documentaries.\n",
    "\n",
    "It saw French-Senagalese director Mati Diop become the first black female director to win an award in Cannes' 72-year history.\n",
    "\n",
    "Diop won the Grand Prix - the equivalent of a silver prize - for Atlantics, a Senegalese drama about young migrants and sexual politics.\n",
    "\n",
    "Ghouls, goals and rock 'n' roll at Cannes\n",
    "'Why can only guys make movies?'\n",
    "Quentin Tarantino's 'brilliant' Hollywood return\n",
    "Diop had previously said she was \"a little sad\" that it had taken until 2019 for a film by a woman of African descent to even be screened at the festival.\n",
    "\n",
    "Meanwhile, US director Quentin Tarantino's latest film Once Upon a Time in Hollywood - which received strong reviews - left the closing ceremony empty handed.\"\"\""
   ]
  },
  {
   "cell_type": "code",
   "execution_count": 7,
   "id": "a7eeae6d",
   "metadata": {},
   "outputs": [
    {
     "data": {
      "text/plain": [
       "'South Korean director Bong Joon-ho has won the Cannes film festival\\'s most prestigious award.\\n\\nThe Palme d\\'Or was awarded for his film Parasite, a dark comedy thriller exploring social class dynamics.\\n\\nThe festival came to a close this evening after 11 days of previews of new films and documentaries.\\n\\nIt saw French-Senagalese director Mati Diop become the first black female director to win an award in Cannes\\' 72-year history.\\n\\nDiop won the Grand Prix - the equivalent of a silver prize - for Atlantics, a Senegalese drama about young migrants and sexual politics.\\n\\nGhouls, goals and rock \\'n\\' roll at Cannes\\n\\'Why can only guys make movies?\\'\\nQuentin Tarantino\\'s \\'brilliant\\' Hollywood return\\nDiop had previously said she was \"a little sad\" that it had taken until 2019 for a film by a woman of African descent to even be screened at the festival.\\n\\nMeanwhile, US director Quentin Tarantino\\'s latest film Once Upon a Time in Hollywood - which received strong reviews - left the closing ceremony empty handed.'"
      ]
     },
     "execution_count": 7,
     "metadata": {},
     "output_type": "execute_result"
    }
   ],
   "source": [
    "article"
   ]
  },
  {
   "cell_type": "markdown",
   "id": "d4777255",
   "metadata": {},
   "source": [
    "## indexing"
   ]
  },
  {
   "cell_type": "code",
   "execution_count": 8,
   "id": "0e8e7532",
   "metadata": {},
   "outputs": [
    {
     "name": "stdout",
     "output_type": "stream",
     "text": [
      "K\n"
     ]
    }
   ],
   "source": [
    "print(article[6])"
   ]
  },
  {
   "cell_type": "markdown",
   "id": "ca11a748",
   "metadata": {},
   "source": [
    "## count()"
   ]
  },
  {
   "cell_type": "code",
   "execution_count": 9,
   "id": "79742a9e",
   "metadata": {},
   "outputs": [
    {
     "name": "stdout",
     "output_type": "stream",
     "text": [
      "1\n"
     ]
    }
   ],
   "source": [
    "print(article.count(\"Mati\"))"
   ]
  },
  {
   "cell_type": "markdown",
   "id": "b84bdfa6",
   "metadata": {},
   "source": [
    "## len() & find()"
   ]
  },
  {
   "cell_type": "code",
   "execution_count": 11,
   "id": "3034875c",
   "metadata": {},
   "outputs": [
    {
     "name": "stdout",
     "output_type": "stream",
     "text": [
      "1007\n",
      "0\n",
      "22\n"
     ]
    }
   ],
   "source": [
    "print(len(article)) #띄어쓰기 포함\n",
    "print(article.find(\"S\")) #맨처음에 나오는 곳\n",
    "print(article.find(\"Bong\"))"
   ]
  },
  {
   "cell_type": "markdown",
   "id": "7125b6e9",
   "metadata": {},
   "source": [
    "## replace( , )"
   ]
  },
  {
   "cell_type": "code",
   "execution_count": 62,
   "id": "4d66ec90",
   "metadata": {},
   "outputs": [
    {
     "name": "stdout",
     "output_type": "stream",
     "text": [
      "South Korean director Hari Kim has won the Cannes film festival's most prestigious award.\n",
      "\n",
      "The Palme d'Or was awarded for his film Parasite, a dark comedy thriller exploring social class dynamics.\n",
      "\n",
      "The festival came to a close this evening after 11 days of previews of new films and documentaries.\n",
      "\n",
      "It saw French-Senagalese director Mati Diop become the first black female director to win an award in Cannes' 72-year history.\n",
      "\n",
      "Diop won the Grand Prix - the equivalent of a silver prize - for Atlantics, a Senegalese drama about young migrants and sexual politics.\n",
      "\n",
      "Ghouls, goals and rock 'n' roll at Cannes\n",
      "'Why can only guys make movies?'\n",
      "Quentin Tarantino's 'brilliant' Hollywood return\n",
      "Diop had previously said she was \"a little sad\" that it had taken until 2019 for a film by a woman of African descent to even be screened at the festival.\n",
      "\n",
      "Meanwhile, US director Quentin Tarantino's latest film Once Upon a Time in Hollywood - which received strong reviews - left the closing ceremony empty handed.\n"
     ]
    }
   ],
   "source": [
    "print(article.replace(\"Bong Joon-ho\", \"Hari Kim\"))"
   ]
  },
  {
   "cell_type": "markdown",
   "id": "da18c195",
   "metadata": {},
   "source": [
    "## strip()"
   ]
  },
  {
   "cell_type": "code",
   "execution_count": 72,
   "id": "b41b1e36",
   "metadata": {},
   "outputs": [
    {
     "name": "stdout",
     "output_type": "stream",
     "text": [
      "    computer    \n",
      "computer    \n",
      "    computer\n",
      "computer\n"
     ]
    }
   ],
   "source": [
    "some_string = \"    computer    \"\n",
    "print(some_string)\n",
    "print(some_string.lstrip())\n",
    "print(some_string.rstrip())\n",
    "print(some_string.strip())"
   ]
  },
  {
   "cell_type": "code",
   "execution_count": 80,
   "id": "2a85ddfe",
   "metadata": {},
   "outputs": [
    {
     "name": "stdout",
     "output_type": "stream",
     "text": [
      ",,,computer...\n",
      "computer...\n",
      ",,,computer...\n",
      ",,,computer\n",
      ",,,computer...\n"
     ]
    }
   ],
   "source": [
    "some_string = \",,,computer...\"\n",
    "print(some_string)\n",
    "print(some_string.lstrip(\",\"))\n",
    "print(some_string.lstrip(\".\"))\n",
    "print(some_string.rstrip(\".\"))\n",
    "print(some_string.rstrip(\",\"))"
   ]
  },
  {
   "cell_type": "markdown",
   "id": "3f287095",
   "metadata": {},
   "source": [
    "# format"
   ]
  },
  {
   "cell_type": "code",
   "execution_count": 87,
   "id": "2561acf2",
   "metadata": {},
   "outputs": [
    {
     "name": "stdout",
     "output_type": "stream",
     "text": [
      "I have a pen, I have an apple.\n",
      "I have an apple, I have a pen.\n"
     ]
    }
   ],
   "source": [
    "print(\"I have a {}, I have an {}.\".format(\"pen\", \"apple\"))\n",
    "print(\"I have an {1}, I have a {0}.\".format(\"pen\", \"apple\"))"
   ]
  },
  {
   "cell_type": "code",
   "execution_count": 109,
   "id": "909bd033",
   "metadata": {},
   "outputs": [
    {
     "name": "stdout",
     "output_type": "stream",
     "text": [
      "format: 0.90\n",
      "format: 0.90\n",
      "format: 0.90\n"
     ]
    }
   ],
   "source": [
    "interest = 0.897\n",
    "\n",
    "#1\n",
    "print(\"format:\", format(interest, \".2f\")) #두번째 짜리까지 출력 >> 반올림\n",
    "\n",
    "#2\n",
    "print(\"format: {:.2f}\".format(interest))\n",
    "\n",
    "#3\n",
    "print(f'format: {interest:.2f}')"
   ]
  },
  {
   "cell_type": "markdown",
   "id": "f2605f7f",
   "metadata": {},
   "source": [
    "- %s: string\n",
    "- %c: character\n",
    "- %d: int\n",
    "- %f: float"
   ]
  },
  {
   "cell_type": "code",
   "execution_count": 99,
   "id": "7780b7c8",
   "metadata": {},
   "outputs": [
    {
     "name": "stdout",
     "output_type": "stream",
     "text": [
      "I have a pen, I have a apple.\n",
      "I have a 1.100000, I have a apple.\n"
     ]
    }
   ],
   "source": [
    "print(\"I have a %s, I have a %s.\" % (\"pen\", \"apple\"))\n",
    "print(\"I have a %f, I have a %s.\" % (1.1, \"apple\"))"
   ]
  },
  {
   "cell_type": "markdown",
   "id": "aa57f8c4",
   "metadata": {},
   "source": [
    "# list\n",
    "\n",
    "1. 리스트 선언\n",
    "```\n",
    "    - new_list = []\n",
    "    - new_list = list()\n",
    "```\n",
    "\n",
    "2. 리스트 추가\n",
    "```\n",
    "    - new_list.append()\n",
    "    - new_list.insert(num, data)\n",
    "```\n",
    "\n",
    "3. 리스트 삭제\n",
    "```\n",
    "    - new_list.remove()\n",
    "    - del new_list[]\n",
    "```\n",
    "\n",
    "4. 리스트 데이터 수정\n",
    "```\n",
    "    - new_list[] = data\n",
    "```"
   ]
  },
  {
   "cell_type": "markdown",
   "id": "8f578940",
   "metadata": {},
   "source": [
    "## append() & insert(index, data)"
   ]
  },
  {
   "cell_type": "code",
   "execution_count": 136,
   "id": "4452dbad",
   "metadata": {},
   "outputs": [
    {
     "name": "stdout",
     "output_type": "stream",
     "text": [
      "['서울시', '경기도', '인천시']\n",
      "['서울시', '경기도', '인천시', '부산시']\n",
      "['서울시', '경상도', '경기도', '인천시', '부산시']\n"
     ]
    }
   ],
   "source": [
    "location = ['서울시', '경기도', '인천시']\n",
    "print(location)\n",
    "\n",
    "# 추가하기1\n",
    "location.append('부산시') #맨 끝에 추가, 여러개 한번에 넣을 수 없음\n",
    "print(location)\n",
    "\n",
    "# 추가하기2\n",
    "location.insert(1, '경상도') #원하는 위치, 데이터명\n",
    "print(location)"
   ]
  },
  {
   "cell_type": "code",
   "execution_count": 140,
   "id": "0b2600de",
   "metadata": {},
   "outputs": [
    {
     "data": {
      "text/plain": [
       "['서울시', '경기도']"
      ]
     },
     "execution_count": 140,
     "metadata": {},
     "output_type": "execute_result"
    }
   ],
   "source": [
    "new_location = []\n",
    "# OR new_location = list()\n",
    "\n",
    "new_location.append('서울시')\n",
    "new_location.append('경기도')\n",
    "new_location"
   ]
  },
  {
   "cell_type": "code",
   "execution_count": 1,
   "id": "32cd4376",
   "metadata": {},
   "outputs": [
    {
     "name": "stdout",
     "output_type": "stream",
     "text": [
      "['java', 'c', 'c++', 'golang']\n"
     ]
    }
   ],
   "source": [
    "# original\n",
    "lang = [\"java\", \"c\", \"c++\"]\n",
    "\n",
    "# lang = [\"java\", \"c\", \"c++\", \"golang\"]\n",
    "lang.append(\"golang\")\n",
    "print(lang)"
   ]
  },
  {
   "cell_type": "code",
   "execution_count": 137,
   "id": "2daf157a",
   "metadata": {},
   "outputs": [
    {
     "name": "stdout",
     "output_type": "stream",
     "text": [
      "부산시\n"
     ]
    }
   ],
   "source": [
    "print(location[-1])"
   ]
  },
  {
   "cell_type": "markdown",
   "id": "ab933a4c",
   "metadata": {},
   "source": [
    "## remove() & del []"
   ]
  },
  {
   "cell_type": "code",
   "execution_count": 138,
   "id": "311886ab",
   "metadata": {},
   "outputs": [
    {
     "data": {
      "text/plain": [
       "['서울시', '경상도', '인천시', '부산시']"
      ]
     },
     "execution_count": 138,
     "metadata": {},
     "output_type": "execute_result"
    }
   ],
   "source": [
    "# 삭제하기1\n",
    "location.remove('경기도')\n",
    "location"
   ]
  },
  {
   "cell_type": "code",
   "execution_count": 139,
   "id": "c3fa45c7",
   "metadata": {},
   "outputs": [
    {
     "data": {
      "text/plain": [
       "['경상도', '인천시', '부산시']"
      ]
     },
     "execution_count": 139,
     "metadata": {},
     "output_type": "execute_result"
    }
   ],
   "source": [
    "# 삭제하기2\n",
    "del location[0]\n",
    "location"
   ]
  },
  {
   "cell_type": "code",
   "execution_count": 150,
   "id": "766edc8d",
   "metadata": {},
   "outputs": [
    {
     "name": "stdout",
     "output_type": "stream",
     "text": [
      "['c', 'java', 'c++']\n"
     ]
    }
   ],
   "source": [
    "#1) lang = [\"c\", \"java\", \"c++\"]\n",
    "lang[0] = \"c\"\n",
    "lang[1] = \"java\"\n",
    "del lang[3]\n",
    "print(lang)"
   ]
  },
  {
   "cell_type": "code",
   "execution_count": null,
   "id": "7c6bbc9b",
   "metadata": {},
   "outputs": [],
   "source": [
    "#2) lang = [\"c\", \"java\", \"c++\"]\n",
    "lang.remove(\"java\")\n",
    "lang.insert(1, \"java\")\n",
    "del lang[3]\n",
    "print(lang)"
   ]
  },
  {
   "cell_type": "markdown",
   "id": "fd585220",
   "metadata": {},
   "source": [
    "## sort(), reverse()"
   ]
  },
  {
   "cell_type": "code",
   "execution_count": 158,
   "id": "ba0e410c",
   "metadata": {},
   "outputs": [
    {
     "name": "stdout",
     "output_type": "stream",
     "text": [
      "None\n",
      "[1, 2, 3, 4, 5]\n",
      "None\n",
      "[1, 2, 3, 4, 5]\n"
     ]
    }
   ],
   "source": [
    "# 정렬하기\n",
    "\n",
    "numbers = [5, 1, 3, 2, 4]\n",
    "numbers.sort() #오름차순\n",
    "print(numbers.sort()) #None\n",
    "print(numbers)\n",
    "\n",
    "numbers.reverse() #내림차순\n",
    "print(numbers.reverse()) #None\n",
    "print(numbers)"
   ]
  },
  {
   "cell_type": "markdown",
   "id": "02d1e7a9",
   "metadata": {},
   "source": [
    "## split()"
   ]
  },
  {
   "cell_type": "code",
   "execution_count": 159,
   "id": "70abee3c",
   "metadata": {},
   "outputs": [
    {
     "name": "stdout",
     "output_type": "stream",
     "text": [
      "['python', 'is', 'easy']\n",
      "['python', 'is', 'easy']\n",
      "python is easy\n"
     ]
    }
   ],
   "source": [
    "# string을 list로\n",
    "\n",
    "python_is_easy = \"python is easy\"\n",
    "print(python_is_easy.split())\n",
    "new_list = python_is_easy.split()\n",
    "print(new_list)\n",
    "print(python_is_easy) #원본 손상 없음"
   ]
  },
  {
   "cell_type": "markdown",
   "id": "f510449a",
   "metadata": {},
   "source": [
    "# 조건문"
   ]
  },
  {
   "cell_type": "code",
   "execution_count": 170,
   "id": "27e5d030",
   "metadata": {},
   "outputs": [
    {
     "name": "stdout",
     "output_type": "stream",
     "text": [
      "나이는? 24\n",
      "당신은 성인입니다\n"
     ]
    }
   ],
   "source": [
    "age = int(input(\"나이는? \"))\n",
    "if age >= 19:\n",
    "    print(\"당신은 성인입니다\")"
   ]
  },
  {
   "cell_type": "code",
   "execution_count": 178,
   "id": "cb0eb4e9",
   "metadata": {},
   "outputs": [
    {
     "name": "stdout",
     "output_type": "stream",
     "text": [
      "철수의 나이는? 19\n",
      "영희의 나이는? 17\n",
      "19금\n"
     ]
    }
   ],
   "source": [
    "age1 = int(input(\"철수의 나이는? \"))\n",
    "age2 = int(input(\"영희의 나이는? \"))\n",
    "if age1 >= 19 or age2 >= 19:\n",
    "    print(\"19금\")"
   ]
  },
  {
   "cell_type": "code",
   "execution_count": 179,
   "id": "ab83f46b",
   "metadata": {},
   "outputs": [
    {
     "name": "stdout",
     "output_type": "stream",
     "text": [
      "철수의 나이는? 10\n",
      "영희의 나이는? 20\n",
      "19금 노\n"
     ]
    }
   ],
   "source": [
    "age1 = int(input(\"철수의 나이는? \"))\n",
    "age2 = int(input(\"영희의 나이는? \"))\n",
    "if not age1 >= 19 and age2 >= 19:\n",
    "    print(\"19금 노\")"
   ]
  },
  {
   "cell_type": "code",
   "execution_count": 182,
   "id": "04d0a2c9",
   "metadata": {},
   "outputs": [
    {
     "name": "stdout",
     "output_type": "stream",
     "text": [
      "당신의 나이는?13\n",
      "아동\n"
     ]
    }
   ],
   "source": [
    "age = int(input(\"당신의 나이는?\"))\n",
    "if age <= 13: \n",
    "    print(\"아동\")\n",
    "elif age <= 19:\n",
    "    print(\"청소년\")\n",
    "else:\n",
    "    print(\"성인\")"
   ]
  },
  {
   "cell_type": "code",
   "execution_count": 191,
   "id": "fc3a1acd",
   "metadata": {},
   "outputs": [
    {
     "name": "stdout",
     "output_type": "stream",
     "text": [
      "현금은?49999\n",
      "집\n"
     ]
    }
   ],
   "source": [
    "cash = int(input(\"현금은?\"))\n",
    "if cash > 100000:\n",
    "    print(\"레스토랑\")\n",
    "else:\n",
    "    if cash > 50000:\n",
    "        if cash > 70000:\n",
    "            print(\"패밀리레스토랑\")\n",
    "        elif cash > 60000:\n",
    "            print(\"밥집\")\n",
    "        else: \n",
    "            print(\"분식집\")\n",
    "    else:\n",
    "        print(\"집\")"
   ]
  }
 ],
 "metadata": {
  "kernelspec": {
   "display_name": "Python 3 (ipykernel)",
   "language": "python",
   "name": "python3"
  },
  "language_info": {
   "codemirror_mode": {
    "name": "ipython",
    "version": 3
   },
   "file_extension": ".py",
   "mimetype": "text/x-python",
   "name": "python",
   "nbconvert_exporter": "python",
   "pygments_lexer": "ipython3",
   "version": "3.9.7"
  },
  "toc": {
   "base_numbering": 1,
   "nav_menu": {},
   "number_sections": true,
   "sideBar": true,
   "skip_h1_title": false,
   "title_cell": "Table of Contents",
   "title_sidebar": "Contents",
   "toc_cell": false,
   "toc_position": {},
   "toc_section_display": true,
   "toc_window_display": false
  },
  "varInspector": {
   "cols": {
    "lenName": 16,
    "lenType": 16,
    "lenVar": 40
   },
   "kernels_config": {
    "python": {
     "delete_cmd_postfix": "",
     "delete_cmd_prefix": "del ",
     "library": "var_list.py",
     "varRefreshCmd": "print(var_dic_list())"
    },
    "r": {
     "delete_cmd_postfix": ") ",
     "delete_cmd_prefix": "rm(",
     "library": "var_list.r",
     "varRefreshCmd": "cat(var_dic_list()) "
    }
   },
   "types_to_exclude": [
    "module",
    "function",
    "builtin_function_or_method",
    "instance",
    "_Feature"
   ],
   "window_display": false
  }
 },
 "nbformat": 4,
 "nbformat_minor": 5
}
