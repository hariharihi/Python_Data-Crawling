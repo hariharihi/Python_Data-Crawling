{
 "cells": [
  {
   "cell_type": "markdown",
   "metadata": {
    "id": "S_nVsFwcD64Q"
   },
   "source": [
    "### <문제 - 김하리>\n",
    "\n",
    "1. 임의의 문자열 string을 생성한 뒤,\n",
    "2. 문자열 안의 문자 e의 개수를 확인하고, \n",
    "3. 다음 조건에 따라 알맞은 값을 반환하라\n",
    "```\n",
    "i) 단어의 개수가 3개 이하인 경우 short,\n",
    "ii) 단어의 개수가 4개 초과 10개 이하인 경우 standard,\n",
    "iii) 단어의 개수가 10개 초과인 경우 long\n",
    "```"
   ]
  },
  {
   "cell_type": "code",
   "execution_count": 1,
   "metadata": {
    "id": "jxp2u0d1FZHM"
   },
   "outputs": [],
   "source": [
    "#1. 임의의 문자열 string 생성\n",
    "string = \"Welcome to Python! Let's see how it goes.\""
   ]
  },
  {
   "cell_type": "code",
   "execution_count": 2,
   "metadata": {
    "id": "aPz3k4TLFcAO"
   },
   "outputs": [
    {
     "data": {
      "text/plain": [
       "6"
      ]
     },
     "execution_count": 2,
     "metadata": {},
     "output_type": "execute_result"
    }
   ],
   "source": [
    "#2. 문자열 안의 문자 e의 개수를 확인\n",
    "string.count('e')"
   ]
  },
  {
   "cell_type": "code",
   "execution_count": 3,
   "metadata": {
    "id": "nKeXvCnKFcSd"
   },
   "outputs": [
    {
     "name": "stdout",
     "output_type": "stream",
     "text": [
      "standard\n"
     ]
    }
   ],
   "source": [
    "#3. 조건에 따라 알맞은 값을 반환\n",
    "string_list = string.split()\n",
    "if len(string_list) <= 3:\n",
    "    print('short')\n",
    "elif len(string_list) <=10:\n",
    "    print('standard')\n",
    "else:\n",
    "    print('long')"
   ]
  },
  {
   "cell_type": "markdown",
   "metadata": {},
   "source": [
    "### <문제 - 임세은> \n",
    "장학생 판별 프로그램\n",
    "- 학생의 이름과 1과목, 2과목, 3과목의 점수를 각각 입력 받아 평균을 구합니다.\n",
    "- 과목의 평균이 95점 이상이면 장학생으로 선정합니다.\n",
    "- 장학생으로 선정되었다면 선정 결과 (이름, 총점, 평균, 결과)와 함께 ‘축하합니다’ 또는 ‘다음 학기에 다시 도전하세요’를 출력합니다. (평균은 소수점 첫째 자리까지 표현합니다.)"
   ]
  },
  {
   "attachments": {
    "image.png": {
     "image/png": "[encoded data removed]"
    }
   },
   "cell_type": "markdown",
   "metadata": {},
   "source": [
    "![image.png](attachment:image.png)"
   ]
  },
  {
   "cell_type": "code",
   "execution_count": 65,
   "metadata": {},
   "outputs": [
    {
     "name": "stdout",
     "output_type": "stream",
     "text": [
      "\n",
      "이름을 입력하세요: 김할\n",
      "\n",
      "3과목의 점수를 각각 입력하세요.\n",
      "1과목 점수 : 98\n",
      "2과목 점수 : 20\n",
      "3과목 점수 : 51\n",
      "\n",
      "이름: 김할\n",
      "총점: 169.0, 평균: 56.3\n",
      "\n",
      "결과: 장학생이 아닙니다\n",
      "다음 학기에 다시 도전하세요!\n"
     ]
    }
   ],
   "source": [
    "# print('<장학생 판별 프로그램>')\n",
    "student_name = input(\"\\n이름을 입력하세요: \")\n",
    "\n",
    "print('\\n3과목의 점수를 각각 입력하세요.')\n",
    "course1 = float(input(\"1과목 점수 : \"))\n",
    "course2 = float(input(\"2과목 점수 : \"))\n",
    "course3 = float(input(\"3과목 점수 : \"))\n",
    "\n",
    "course_total = course1 + course2 + course3\n",
    "course_mean = course_total / 3\n",
    "\n",
    "print(f'\\n이름: {student_name}')\n",
    "print(f'총점: {course_total}, 평균: {course_mean:.1f}')\n",
    "\n",
    "if course_mean >= 95:\n",
    "    print(\"\\n결과: 장학생\")\n",
    "    print(\"축하합니다!\")\n",
    "else:\n",
    "    print(\"\\n결과: 장학생이 아닙니다\")\n",
    "    print(\"다음 학기에 다시 도전하세요!\")"
   ]
  },
  {
   "cell_type": "markdown",
   "metadata": {},
   "source": [
    "### <문제 - 김주연>\n",
    "나이를 입력받아 입장료를 계산하는 프로그램을 작성하시오. \n",
    "- 입장료는 다음과 같다.\n",
    "    - 13세 이하의 입장료는 1500원, \n",
    "    - 14세 이상 19세 이하의 입장료는 2000원, \n",
    "    - 65세 이상의 입장료는 1000원, \n",
    "    - 기본 입장료는 4000원이다.\n",
    "    \n",
    "ex) \n",
    "- 나이를 입력하세요 : 6\n",
    "- 입장료는 1500원 입니다."
   ]
  },
  {
   "cell_type": "code",
   "execution_count": 33,
   "metadata": {},
   "outputs": [
    {
     "name": "stdout",
     "output_type": "stream",
     "text": [
      "나이를 입력하세요: 89\n",
      "입장료는 1000원 입니다.\n"
     ]
    }
   ],
   "source": [
    "age = int(input(\"나이를 입력하세요: \"))\n",
    "\n",
    "if age <= 13:\n",
    "    print(\"입장료는 1500원 입니다.\")\n",
    "elif age <= 19:\n",
    "    print(\"입장료는 2000원 입니다.\")\n",
    "elif age >= 65: \n",
    "    print(\"입장료는 1000원 입니다.\")\n",
    "else:\n",
    "    print(\"입장료는 4000원 입니다.\")"
   ]
  },
  {
   "cell_type": "markdown",
   "metadata": {},
   "source": [
    "### <문제 - 유채원> \n",
    "- 점수를 입력받아 이 값이 1 과 100 사이의 정수이면 ‘입력되었습니다.’\n",
    "- 이 외의 형태이면 ‘올바른 값이 아닙니다.’ 를 출력하십시오\n",
    "- 사용자는 무조건 실수를 입력하는 것으로 가정합니다.\n",
    "\n",
    "ex)\n",
    "- 점수를 입력하세요: 30\n",
    "- 입력되었습니다."
   ]
  },
  {
   "cell_type": "code",
   "execution_count": 62,
   "metadata": {},
   "outputs": [
    {
     "name": "stdout",
     "output_type": "stream",
     "text": [
      "점수를 입력하세요: 101\n",
      "올바른 값이 아닙니다.\n"
     ]
    }
   ],
   "source": [
    "score = float(input(\"점수를 입력하세요: \"))\n",
    "if score == int(score):\n",
    "    if 1 <= score <= 100:\n",
    "        print(\"입력되었습니다.\")\n",
    "    else:\n",
    "        print(\"올바른 값이 아닙니다.\")    \n",
    "else:\n",
    "    print(\"올바른 값이 아닙니다.\")"
   ]
  },
  {
   "cell_type": "code",
   "execution_count": 66,
   "metadata": {},
   "outputs": [
    {
     "name": "stdout",
     "output_type": "stream",
     "text": [
      "점수를 입력하세요: 92.1\n",
      "올바른 값이 아닙니다.\n"
     ]
    }
   ],
   "source": [
    "#OR\n",
    "score = float(input(\"점수를 입력하세요: \"))\n",
    "if score%1 == 0 & 1 <= score <= 100:\n",
    "        print(\"입력되었습니다.\")\n",
    "else:\n",
    "    print(\"올바른 값이 아닙니다.\")"
   ]
  },
  {
   "cell_type": "markdown",
   "metadata": {},
   "source": [
    "### <문제 - 김수빈> \n",
    "\n",
    "숫자 a와 b를\n",
    "- 첫번째 숫자 : ___ ex) 첫번째 숫자 : 40\n",
    "- 두번째 숫자 : ___ ex) 두번째 숫자 : 4\n",
    "\n",
    "의 형식으로 선언하고, a를 b로 나눈 몫과 나머지를\n",
    "- a를 b로 나눈 값의 몫은 __ 이고, 나머지는 __ 입니다. ex) a를 b로 나눈 값의 몫은 10이고, 나머지는 0입니다. \n",
    "의 형식으로 결과를 도출하시면 됩니다.\n",
    "- 이때 몫은 소수점 자리 없이 정수로만 나오게 하시면 됩니다. \n",
    "- 숫자는 자유롭게 설정하시면 됩니다. "
   ]
  },
  {
   "cell_type": "code",
   "execution_count": 67,
   "metadata": {},
   "outputs": [
    {
     "name": "stdout",
     "output_type": "stream",
     "text": [
      "첫번째 숫자 : 4\n",
      "두번째 숫자 : 5\n",
      "a를 b로 나눈 값의 몫은 0이고, 나머지는 4입니다.\n"
     ]
    }
   ],
   "source": [
    "a = int(input(\"첫번째 숫자 : \"))\n",
    "b = int(input(\"두번째 숫자 : \"))\n",
    "\n",
    "print(f'a를 b로 나눈 값의 몫은 {a//b}이고, 나머지는 {a%b}입니다.')"
   ]
  },
  {
   "cell_type": "markdown",
   "metadata": {},
   "source": [
    "### <문제 - 김재도>\n",
    "\n",
    "- 사용자로부터 원의 반지름을 입력받아\n",
    "- 반지름의 길이가 양수일 때에는 원의 넓이를 출력하고\n",
    "- 0 혹은 음수인 경우 \"Error: radius <= 0\"을 출력하는 코드를 작성해보세요."
   ]
  },
  {
   "cell_type": "markdown",
   "metadata": {},
   "source": [
    "1. 변수 pi를 선언하세요.(3.1415) \n",
    "2. 원의 반지름의 값을 사용자로부터 입력받고,"
   ]
  },
  {
   "cell_type": "code",
   "execution_count": 13,
   "metadata": {},
   "outputs": [
    {
     "name": "stdout",
     "output_type": "stream",
     "text": [
      "반지름의 값: 4\n"
     ]
    }
   ],
   "source": [
    "pi = 3.1415\n",
    "r = float(input(\"반지름의 값: \"))"
   ]
  },
  {
   "cell_type": "markdown",
   "metadata": {},
   "source": [
    "3. 반지름의 값이 음수라면 경고메세지를 출력하는 조건문을 작성해주세요.\n",
    "반지름의 값이 0 혹은 양수라면 원의 넓이를 계산해 소수점 첫째자리까지만 출력하세요."
   ]
  },
  {
   "cell_type": "code",
   "execution_count": 68,
   "metadata": {},
   "outputs": [
    {
     "name": "stdout",
     "output_type": "stream",
     "text": [
      "원의 넓이: 50.3\n"
     ]
    }
   ],
   "source": [
    "if pi > 0:\n",
    "    print(f'원의 넓이: {r * r * pi:.1f}')\n",
    "else:\n",
    "    print(\"WARNING MESSAGE!\")"
   ]
  },
  {
   "cell_type": "markdown",
   "metadata": {},
   "source": [
    "### <문제 - 문선민>\n",
    "- 다음의 노래 가사 속에 '요일'이라는 단어가 몇번 들어갔는지 맞추는 게임을 만들어보려고 한다.\n",
    "- lyrics = \"\"\"월요일엔 아마 바쁘지 않을까 화요일도 성급해 보이지 안 그래 수요일은 뭔가 어정쩡한 느낌 목요일은 그냥 내가 왠지 싫어 우 이번 주 금요일 우 금요일에 시간 어때요 주말까지 기다리긴 힘들어 시간아 달려라 시계를 더 보채고 싶지만 (mind control) 일분 일초가 달콤해 이 남자 도대체 뭐야 사랑에 빠지지 않곤 못 배기겠어 온 종일 내 맘은 저기 시계바늘 위에 올라타 한 칸씩 그대에게 더 가까이\"\"\"\n",
    "- 사용자로부터 숫자를 입력받아 정답보다 숫자가 클 경우, 정답보다 숫자가 작을 경우, 정답일 경우 각각 다른 메시지를 출력하는 프로그램을 작성하시오."
   ]
  },
  {
   "cell_type": "markdown",
   "metadata": {},
   "source": [
    "example:\n",
    "\n",
    "case1: 사용자의 답안이 실제 답보다 클 경우\n",
    "가사 속에 '요일'이라는 단어가 몇개 들어있을까요?: 13\n",
    "더 적어요.\n",
    "\n",
    "case2: 사용자의 답안이 실제 답보다 작을 경우\n",
    "가사 속에 '요일'이라는 단어가 몇개 들어있을까요?: 3\n",
    "더 많아요.\n",
    "\n",
    "case3: 사용자의 답안이 정답일 경우\n",
    "가사 속에 '요일'이라는 단어가 몇개 들어있을까요?: 6\n",
    "정답!"
   ]
  },
  {
   "cell_type": "markdown",
   "metadata": {},
   "source": [
    "step1. lyrics를 변수로 입력해주세요."
   ]
  },
  {
   "cell_type": "code",
   "execution_count": 83,
   "metadata": {},
   "outputs": [
    {
     "data": {
      "text/plain": [
       "6"
      ]
     },
     "execution_count": 83,
     "metadata": {},
     "output_type": "execute_result"
    }
   ],
   "source": [
    "lyrics = \"\"\"월요일엔 아마 바쁘지 않을까 화요일도 성급해 보이지 안 그래 수요일은 뭔가 어정쩡한 느낌 \n",
    "목요일은 그냥 내가 왠지 싫어 우 이번 주 금요일 우 금요일에 시간 어때요 \n",
    "주말까지 기다리긴 힘들어 시간아 달려라 시계를 더 보채고 싶지만 (mind control) \n",
    "일분 일초가 달콤해 이 남자 도대체 뭐야 사랑에 빠지지 않곤 못 배기겠어 \n",
    "온 종일 내 맘은 저기 시계바늘 위에 올라타 한 칸씩 그대에게 더 가까이\"\"\"\n",
    "\n",
    "lyrics.count(\"요일\")"
   ]
  },
  {
   "cell_type": "markdown",
   "metadata": {},
   "source": [
    "step2. 사용자에게 숫자를 입력받아 실제 답과 비교하여 if문으로 상황에 따라 다른 말을 출력해주세요."
   ]
  },
  {
   "cell_type": "code",
   "execution_count": 91,
   "metadata": {},
   "outputs": [
    {
     "name": "stdout",
     "output_type": "stream",
     "text": [
      "2\n",
      "4만큼 더 많아요!\n"
     ]
    }
   ],
   "source": [
    "num = int(input())\n",
    "count_ans = lyrics.count(\"요일\")\n",
    "\n",
    "if num > count_ans:\n",
    "    print(f'{num - count_ans}만큼 더 적어요!')\n",
    "elif num < count_ans:\n",
    "    print(f'{count_ans - num}만큼 더 많아요!')\n",
    "if num == count_ans:\n",
    "    print(num, \"정답!\")"
   ]
  },
  {
   "cell_type": "markdown",
   "metadata": {},
   "source": [
    "### <문제 - 배소현> \n",
    "독일에서 직구한 물건의 가격이 한국 관세 부과 범위에 해당하는지 알아보려고 합니다. 가격을 입력받아 부과 범위 해당 여부에 따라 다른 메시지를 출력하는 프로그램을 작성하세요."
   ]
  },
  {
   "cell_type": "markdown",
   "metadata": {},
   "source": [
    "1. 임의로 유로화를 설정해 입력하세요."
   ]
  },
  {
   "cell_type": "code",
   "execution_count": 95,
   "metadata": {},
   "outputs": [
    {
     "name": "stdout",
     "output_type": "stream",
     "text": [
      "유료화: 100\n"
     ]
    }
   ],
   "source": [
    "euro = int(input(\"유료화: \"))"
   ]
  },
  {
   "cell_type": "markdown",
   "metadata": {},
   "source": [
    "2. 유로화를 달러로 환산하세요. (달러/유로 환율=0.9017)"
   ]
  },
  {
   "cell_type": "code",
   "execution_count": 96,
   "metadata": {},
   "outputs": [
    {
     "data": {
      "text/plain": [
       "110.90163025396474"
      ]
     },
     "execution_count": 96,
     "metadata": {},
     "output_type": "execute_result"
    }
   ],
   "source": [
    "euro_to_dollar = euro / 0.9017\n",
    "euro_to_dollar"
   ]
  },
  {
   "cell_type": "markdown",
   "metadata": {},
   "source": [
    "3. 환산된 달러가 관세 부과 범위에 해당한다면 yes, 해당하지 않으면 no를 출력하세요. (관세 부과 기준: 미화 150달러)"
   ]
  },
  {
   "cell_type": "code",
   "execution_count": 97,
   "metadata": {},
   "outputs": [
    {
     "name": "stdout",
     "output_type": "stream",
     "text": [
      "no\n"
     ]
    }
   ],
   "source": [
    "limit = 150\n",
    "if euro_to_dollar >= limit:\n",
    "    print(\"yes\")\n",
    "else:\n",
    "    print(\"no\")"
   ]
  },
  {
   "cell_type": "markdown",
   "metadata": {},
   "source": [
    "### <문제 - 염제원> \n",
    "- 정수를 입력받아 그 수가 2와 3의 공배수인지, 2의 배수인지, 3의 배수인지, 또는 둘 다 아닌지를 출력하세요.\n",
    "- 정수 m이 정수 d의 정수배가 될 때, m은 d의 배수라고 한다.\n",
    "    - ex1) 0을 입력받으면 '0은 2와 3의 공배수입니다.'를 출력하면 됨.\n",
    "    - ex2) -4를 입력받으면 '-4은 2의 배수입니다.'를 출력하면 됨.\n",
    "    - ex3) 12를 입력받으면 '12는 2와 3의 공배수입니다.'를 출력하면 됨.\n",
    "    - ex4) 7을 입력받으면 '7은 3의 배수도 2의 배수도 아닙니다.'를 출력하면 됨."
   ]
  },
  {
   "cell_type": "code",
   "execution_count": 103,
   "metadata": {},
   "outputs": [
    {
     "name": "stdout",
     "output_type": "stream",
     "text": [
      "-4\n",
      "-4은 2의 배수입니다\n"
     ]
    }
   ],
   "source": [
    "num = int(input())\n",
    "\n",
    "if num % 2 == 0:\n",
    "    if num % 3 == 0:\n",
    "        print(f'{num}은 2와 3의 공배수입니다')\n",
    "    else:\n",
    "        print(f'{num}은 2의 배수입니다')\n",
    "elif num % 3 == 0:\n",
    "        print(f'{num}은 3의 공배수입니다')\n",
    "else:\n",
    "    print(f'{num}은 2의 배수도 3의 배수도 아닙니다')"
   ]
  },
  {
   "cell_type": "markdown",
   "metadata": {},
   "source": [
    "### <문제 - 이민재>  \n",
    "연세대학교 교가 - https://www.yonsei.ac.kr/sc/intro/symbol10.jsp 에서 확인"
   ]
  },
  {
   "cell_type": "markdown",
   "metadata": {},
   "source": [
    "1. 교가 '연세의 노래' 중 '연세' 단어의 빈도 수를 변수로 선언하세요."
   ]
  },
  {
   "cell_type": "code",
   "execution_count": 104,
   "metadata": {},
   "outputs": [
    {
     "data": {
      "text/plain": [
       "3"
      ]
     },
     "execution_count": 104,
     "metadata": {},
     "output_type": "execute_result"
    }
   ],
   "source": [
    "lyrics = \"\"\"관악산 바라보며 무악에 둘러, 유유히 굽이치는 한강을 안고, \n",
    "푸르고 맑은 정기 하늘까지 뻗치는, 연세 숲에 우뚝 솟은 학문의 전당. \n",
    "아 우리들 불멸의 우리들 영원한 진리의 궁전이다. 자유의 봉화대다. \n",
    "다함없는 진리의 샘 여기서 솟고 불멸의 자유의 불 여기서 탄다. \n",
    "우리들은 자랑에 찬 연세 아들 딸. \n",
    "슬기 덕성 억센 몸과 의지로 열성 진실 몸과 맘을 기울여 \n",
    "연세에 맡기어진 하늘의 사명 승리와 영광으로 길이 다한다. 찬란한 우리 이상 밝은 누릴 이룬다.\"\"\"\n",
    "lyrics_count = lyrics.count(\"연세\")\n",
    "lyrics_count"
   ]
  },
  {
   "cell_type": "markdown",
   "metadata": {},
   "source": [
    "2. 교가 중 '맑'이 앞에서부터 몇번째로 나오는지 구하고 이를 변수로 선언하세요."
   ]
  },
  {
   "cell_type": "code",
   "execution_count": 105,
   "metadata": {},
   "outputs": [
    {
     "data": {
      "text/plain": [
       "39"
      ]
     },
     "execution_count": 105,
     "metadata": {},
     "output_type": "execute_result"
    }
   ],
   "source": [
    "lyrics_index = lyrics.find(\"맑\")\n",
    "lyrics_index"
   ]
  },
  {
   "cell_type": "markdown",
   "metadata": {},
   "source": [
    "3. 전자의 변수를 후자의 변수로 나누고 이를 소수점 셋째자리에서 반올림하여 출력하는 프로그램을 작성하세요."
   ]
  },
  {
   "cell_type": "code",
   "execution_count": 106,
   "metadata": {},
   "outputs": [
    {
     "name": "stdout",
     "output_type": "stream",
     "text": [
      "0.08\n"
     ]
    }
   ],
   "source": [
    "print(f'{lyrics_count / lyrics_index:.2f}')"
   ]
  },
  {
   "cell_type": "markdown",
   "metadata": {},
   "source": [
    "### <문제 - 이하영> \n",
    "- 자동차 번호판 게임을 아시나요?\n",
    "- 자동차 번호판의 숫자를 조합해서 새로운 숫자를 만드는 게임입니다.\n",
    "- 예를 들자면, 자동차의 번호가 ‘3489’인 경우, 34 + 89 = 123을 할 수 있습니다.\n",
    "\n",
    "- 간단한 자동차 번호판 게임을 해봅시다.\n",
    "\n",
    "- 4자리 자동차 번호의 각 자리의 숫자를 각각 한 자리 수로 취급합니다. \n",
    "- 앞의 3개 수의 합이 4번째 한 자리수가 되면, 게임에서 이깁니다.\n",
    "    - (ex. 1236 -> 1 + 2 + 3 = 6)\n",
    "\n",
    "- 4자리 자동차 번호를 입력받고, 게임에서 이기면 ‘you win’을, 게임을 지면 ‘you lose’를 출력하세요."
   ]
  },
  {
   "cell_type": "code",
   "execution_count": 92,
   "metadata": {},
   "outputs": [
    {
     "name": "stdout",
     "output_type": "stream",
     "text": [
      "1236\n",
      "you win\n"
     ]
    }
   ],
   "source": [
    "car_num = input()\n",
    "if int(car_num[0]) + int(car_num[1]) + int(car_num[2]) == int(car_num[3]):\n",
    "    print(\"you win\")\n",
    "else:\n",
    "    print(\"you lose\")"
   ]
  },
  {
   "cell_type": "code",
   "execution_count": 108,
   "metadata": {},
   "outputs": [
    {
     "name": "stdout",
     "output_type": "stream",
     "text": [
      "1234\n",
      "you lose\n"
     ]
    }
   ],
   "source": [
    "# OR\n",
    "\n",
    "car_num = input()\n",
    "car_num1 = int(car_num[0])\n",
    "car_num2 = int(car_num[1])\n",
    "car_num3 = int(car_num[2])\n",
    "car_num4 = int(car_num[3])\n",
    "\n",
    "if (car_num1 + car_num2 + car_num3) == car_num4:\n",
    "    print(\"you win\")\n",
    "else:\n",
    "    print(\"you lose\")"
   ]
  },
  {
   "cell_type": "markdown",
   "metadata": {},
   "source": [
    "### <문제 - 주윤태>  \n",
    " 다음 중 변수 이름이 될 수 없는 것을 골라라\n",
    " 1. yonsei 2. yonsei_1885 3. y1onse8i 4. 1yonsei 5.y_onsei"
   ]
  },
  {
   "cell_type": "code",
   "execution_count": null,
   "metadata": {},
   "outputs": [],
   "source": [
    "4"
   ]
  }
 ],
 "metadata": {
  "colab": {
   "collapsed_sections": [],
   "name": "week01_quiz_hari kim",
   "provenance": []
  },
  "kernelspec": {
   "display_name": "Python 3 (ipykernel)",
   "language": "python",
   "name": "python3"
  },
  "language_info": {
   "codemirror_mode": {
    "name": "ipython",
    "version": 3
   },
   "file_extension": ".py",
   "mimetype": "text/x-python",
   "name": "python",
   "nbconvert_exporter": "python",
   "pygments_lexer": "ipython3",
   "version": "3.9.7"
  },
  "toc": {
   "base_numbering": 1,
   "nav_menu": {},
   "number_sections": true,
   "sideBar": true,
   "skip_h1_title": false,
   "title_cell": "Table of Contents",
   "title_sidebar": "Contents",
   "toc_cell": false,
   "toc_position": {},
   "toc_section_display": true,
   "toc_window_display": false
  },
  "varInspector": {
   "cols": {
    "lenName": 16,
    "lenType": 16,
    "lenVar": 40
   },
   "kernels_config": {
    "python": {
     "delete_cmd_postfix": "",
     "delete_cmd_prefix": "del ",
     "library": "var_list.py",
     "varRefreshCmd": "print(var_dic_list())"
    },
    "r": {
     "delete_cmd_postfix": ") ",
     "delete_cmd_prefix": "rm(",
     "library": "var_list.r",
     "varRefreshCmd": "cat(var_dic_list()) "
    }
   },
   "types_to_exclude": [
    "module",
    "function",
    "builtin_function_or_method",
    "instance",
    "_Feature"
   ],
   "window_display": false
  }
 },
 "nbformat": 4,
 "nbformat_minor": 1
}
