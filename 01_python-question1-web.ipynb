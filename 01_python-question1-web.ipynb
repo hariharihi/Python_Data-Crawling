{
 "cells": [
  {
   "cell_type": "markdown",
   "metadata": {},
   "source": [
    "## 1. 문제를 풀며 빠르게 익숙해지는 파이썬 기본 프로그래밍1"
   ]
  },
  {
   "cell_type": "markdown",
   "metadata": {},
   "source": [
    "### Exercise 1. 출력\n",
    "* 화면에 \"Hello World!\"를 출력하세요."
   ]
  },
  {
   "cell_type": "code",
   "execution_count": 1,
   "metadata": {},
   "outputs": [
    {
     "name": "stdout",
     "output_type": "stream",
     "text": [
      "Hello World!\n"
     ]
    }
   ],
   "source": [
    "print(\"Hello World!\")"
   ]
  },
  {
   "cell_type": "markdown",
   "metadata": {},
   "source": [
    "### Exercise 2. 출력\n",
    "* 화면에 \"I don't like C language\"를 출력하세요."
   ]
  },
  {
   "cell_type": "code",
   "execution_count": 2,
   "metadata": {},
   "outputs": [
    {
     "name": "stdout",
     "output_type": "stream",
     "text": [
      "I don't like C language\n"
     ]
    }
   ],
   "source": [
    "print(\"I don't like C language\")"
   ]
  },
  {
   "cell_type": "markdown",
   "metadata": {},
   "source": [
    "### Exercise 3. 출력\n",
    "* print 함수를 사용하여 3.1415의 값을 출력하세요. \n",
    "  - 단, 소수점 아래는 첫 번째 자리까지만 표시되도록 하세요.\n",
    "\n",
    "Example <br>\n",
    "3.1"
   ]
  },
  {
   "cell_type": "code",
   "execution_count": 14,
   "metadata": {},
   "outputs": [
    {
     "name": "stdout",
     "output_type": "stream",
     "text": [
      "3.1\n",
      "3.1\n",
      "3.1\n"
     ]
    }
   ],
   "source": [
    "digit = 3.1415\n",
    "\n",
    "print(format(digit, \".1f\"))\n",
    "print(\"{:.1f}\".format(digit))\n",
    "print(f'{digit:.1f}')"
   ]
  },
  {
   "cell_type": "code",
   "execution_count": 7,
   "metadata": {},
   "outputs": [
    {
     "ename": "SyntaxError",
     "evalue": "invalid syntax (859970051.py, line 1)",
     "output_type": "error",
     "traceback": [
      "\u001b[0;36m  File \u001b[0;32m\"/var/folders/83/p3mr58fn4_l5138tp6pph8jh0000gn/T/ipykernel_60115/859970051.py\"\u001b[0;36m, line \u001b[0;32m1\u001b[0m\n\u001b[0;31m    print(3.1415[])\u001b[0m\n\u001b[0m                 ^\u001b[0m\n\u001b[0;31mSyntaxError\u001b[0m\u001b[0;31m:\u001b[0m invalid syntax\n"
     ]
    }
   ],
   "source": [
    "print(3.1415[])"
   ]
  },
  {
   "cell_type": "markdown",
   "metadata": {},
   "source": [
    "### Exercise 4. 형 변환\n",
    "* 문자열 '720'를 정수형으로 변환하라. 정수 100을 문자열 '100'으로 변환하라."
   ]
  },
  {
   "cell_type": "code",
   "execution_count": 17,
   "metadata": {},
   "outputs": [
    {
     "name": "stdout",
     "output_type": "stream",
     "text": [
      "720\n",
      "100\n"
     ]
    }
   ],
   "source": [
    "string = \"720\"\n",
    "int_string = int(string)\n",
    "print(int_string)\n",
    "\n",
    "integer = 100\n",
    "str_integer = str(integer)\n",
    "print(str_integer) #print할 때 \"\" 빠짐"
   ]
  },
  {
   "cell_type": "markdown",
   "metadata": {},
   "source": [
    "### Exercise 5. 연산\n",
    "* 2와 4 숫자를 변수에 넣고, 두 변수를 더한 값, 곱한 값, 나눈 값을 출력하세요.\n",
    "\n",
    "Example <br>\n",
    "6 <br>\n",
    "8 <br>\n",
    "0.5"
   ]
  },
  {
   "cell_type": "code",
   "execution_count": 3,
   "metadata": {},
   "outputs": [
    {
     "name": "stdout",
     "output_type": "stream",
     "text": [
      "6\n",
      "8\n",
      "0.5\n"
     ]
    }
   ],
   "source": [
    "num1 = 2\n",
    "num2 = 4\n",
    "\n",
    "print(num1 + num2)\n",
    "print(num1 * num2)\n",
    "print(num1 / num2)"
   ]
  },
  {
   "cell_type": "markdown",
   "metadata": {},
   "source": [
    "### Exercise 6. 연산\n",
    "* 밑이 6 이고, 지수가 2 일 때 거듭제곱 값을 출력하라.\n",
    "  - 6의 2승\n",
    "\n",
    "Example <br>\n",
    "36"
   ]
  },
  {
   "cell_type": "code",
   "execution_count": 18,
   "metadata": {},
   "outputs": [
    {
     "data": {
      "text/plain": [
       "36"
      ]
     },
     "execution_count": 18,
     "metadata": {},
     "output_type": "execute_result"
    }
   ],
   "source": [
    "6 ** 2"
   ]
  },
  {
   "cell_type": "markdown",
   "metadata": {},
   "source": [
    "### Exercise 7.  입력과 출력\n",
    "* 사용자로부터 두 개의 숫자를 입력받은 후 두 개의 숫자를 더한 값을 각각 출력하는 프로그램을 작성하세요.\n",
    "\n",
    "Example<br>\n",
    "INPUT: 2 and 4 <br>\n",
    "OUTPUT: <br>\n",
    "\n",
    "6"
   ]
  },
  {
   "cell_type": "code",
   "execution_count": 20,
   "metadata": {},
   "outputs": [
    {
     "name": "stdout",
     "output_type": "stream",
     "text": [
      "2\n",
      "4\n",
      "6\n"
     ]
    }
   ],
   "source": [
    "input1 = int(input())\n",
    "input2 = int(input())\n",
    "print(input1 + input2)"
   ]
  },
  {
   "cell_type": "markdown",
   "metadata": {},
   "source": [
    "### Exercise 8. 입력과 출력\n",
    "* 사용자로부터 두 개의 숫자를 입력받은 후 두 개의 숫자를 더한 값, 곱한 값, 나눈 값을 각각 출력하는 프로그램을 작성하세요.\n",
    "\n",
    "Example<br>\n",
    "INPUT: 2 and 4 <br>\n",
    "OUTPUT: <br>\n",
    "\n",
    "6 <br>\n",
    "8 <br>\n",
    "0.5"
   ]
  },
  {
   "cell_type": "code",
   "execution_count": 21,
   "metadata": {},
   "outputs": [
    {
     "name": "stdout",
     "output_type": "stream",
     "text": [
      "2\n",
      "4\n",
      "6\n",
      "8\n",
      "0.5\n"
     ]
    }
   ],
   "source": [
    "input1 = int(input())\n",
    "input2 = int(input())\n",
    "print(input1 + input2)\n",
    "print(input1 * input2)\n",
    "print(input1 / input2)"
   ]
  },
  {
   "cell_type": "markdown",
   "metadata": {},
   "source": [
    "### Exercise 9.  입력과 출력\n",
    "* 사용자로부터 두 개의 숫자를 입력받은 후 두 개의 숫자를 더한 값, 곱한 값, 나눈 값, 나눈 몫, 나머지 값을 각각 출력하는 프로그램을 작성하세요.\n",
    "\n",
    "Example<br>\n",
    "INPUT: 4 and 4 <br>\n",
    "OUTPUT: <br>\n",
    "\n",
    "8 <br>\n",
    "16 <br>\n",
    "1.0 <br>\n",
    "1 <br>\n",
    "0"
   ]
  },
  {
   "cell_type": "code",
   "execution_count": 23,
   "metadata": {},
   "outputs": [
    {
     "name": "stdout",
     "output_type": "stream",
     "text": [
      "4\n",
      "4\n",
      "8\n",
      "16\n",
      "1.0\n",
      "1\n",
      "0\n"
     ]
    }
   ],
   "source": [
    "input1 = int(input())\n",
    "input2 = int(input())\n",
    "print(input1 + input2)\n",
    "print(input1 * input2)\n",
    "print(input1 / input2)\n",
    "print(input1 // input2)\n",
    "print(input1 % input2)"
   ]
  },
  {
   "cell_type": "markdown",
   "metadata": {},
   "source": [
    "### Exercise 10.  입력과 출력\n",
    "* 사용자로부터 두 개의 숫자를 입력받은 후 두 개의 숫자를 더한 값, 곱한 값, 나눈 값, 나눈 몫, 나머지 값을 각각 다음과 같이 출력하는 프로그램을 작성하세요.\n",
    "\n",
    "Example<br>\n",
    "INPUT: 4 and 4 <br>\n",
    "OUTPUT: <br>\n",
    "\n",
    "4 + 4 = 8 <br>\n",
    "4 * 4 = 16 <br>\n",
    "4 / 4 = 1 <br>\n",
    "4 // 4 = 1 <br>\n",
    "4 % 4 = 0 <br>"
   ]
  },
  {
   "cell_type": "code",
   "execution_count": 27,
   "metadata": {},
   "outputs": [
    {
     "name": "stdout",
     "output_type": "stream",
     "text": [
      "4\n",
      "4\n",
      "4 + 4 = 8\n",
      "4 * 4 = 8\n",
      "4 / 4 = 8\n",
      "4 // 4 = 8\n",
      "4 % 4 = 8\n"
     ]
    }
   ],
   "source": [
    "input1 = int(input())\n",
    "input2 = int(input())\n",
    "\n",
    "print(input1, \"+\", input2, \"=\", input1 + input2)\n",
    "print(input1, \"*\", input2, \"=\", input1 * input2)\n",
    "print(input1, \"/\", input2, \"=\", input1 / input2)\n",
    "print(input1, \"//\", input2, \"=\", input1 // input2)\n",
    "print(input1, \"%\", input2, \"=\", input1 % input2)"
   ]
  },
  {
   "cell_type": "markdown",
   "metadata": {},
   "source": [
    "### Exercise 11.  입력과 출력\n",
    "* 사용자로부터 두 개의 숫자를 입력받은 후 두 개의 숫자를 더한 값, 곱한 값, 나눈 값, 나눈 몫, 나머지 값을 각각 다음과 같이 출력하는 프로그램을 작성하세요.\n",
    "  - 단, 나눈 값은 소숫점 첫번째 자리까지만 출력하세요.\n",
    "\n",
    "Example<br>\n",
    "INPUT: 5 and 4 <br>\n",
    "OUTPUT: <br>\n",
    "\n",
    "5 + 4 = 9 <br>\n",
    "5 + 4 = 20 <br>\n",
    "5 / 4 = 1.2 <br>\n",
    "5 // 4 = 1 <br>\n",
    "5 % 4 = 1 <br>"
   ]
  },
  {
   "cell_type": "code",
   "execution_count": 35,
   "metadata": {},
   "outputs": [
    {
     "name": "stdout",
     "output_type": "stream",
     "text": [
      "5\n",
      "4\n",
      "5 + 4 = 9\n",
      "5 * 4 = 20\n",
      "5 / 4 = 1.2\n",
      "5 // 4 = 1\n",
      "5 % 4 = 1\n"
     ]
    }
   ],
   "source": [
    "input1 = int(input())\n",
    "input2 = int(input())\n",
    "\n",
    "print(input1, \"+\", input2, \"=\", input1 + input2)\n",
    "print(input1, \"*\", input2, \"=\", input1 * input2)\n",
    "print(input1, \"/\", input2, \"=\", f'{input1 / input2:.1f}')\n",
    "print(input1, \"//\", input2, \"=\", input1 // input2)\n",
    "print(input1, \"%\", input2, \"=\", input1 % input2)"
   ]
  }
 ],
 "metadata": {
  "kernelspec": {
   "display_name": "Python 3 (ipykernel)",
   "language": "python",
   "name": "python3"
  },
  "language_info": {
   "codemirror_mode": {
    "name": "ipython",
    "version": 3
   },
   "file_extension": ".py",
   "mimetype": "text/x-python",
   "name": "python",
   "nbconvert_exporter": "python",
   "pygments_lexer": "ipython3",
   "version": "3.9.7"
  },
  "nbTranslate": {
   "displayLangs": [
    "*"
   ],
   "hotkey": "alt-t",
   "langInMainMenu": true,
   "sourceLang": "en",
   "targetLang": "fr",
   "useGoogleTranslate": true
  },
  "toc": {
   "base_numbering": 1,
   "nav_menu": {},
   "number_sections": true,
   "sideBar": true,
   "skip_h1_title": false,
   "title_cell": "Table of Contents",
   "title_sidebar": "Contents",
   "toc_cell": false,
   "toc_position": {},
   "toc_section_display": true,
   "toc_window_display": false
  },
  "varInspector": {
   "cols": {
    "lenName": 16,
    "lenType": 16,
    "lenVar": 40
   },
   "kernels_config": {
    "python": {
     "delete_cmd_postfix": "",
     "delete_cmd_prefix": "del ",
     "library": "var_list.py",
     "varRefreshCmd": "print(var_dic_list())"
    },
    "r": {
     "delete_cmd_postfix": ") ",
     "delete_cmd_prefix": "rm(",
     "library": "var_list.r",
     "varRefreshCmd": "cat(var_dic_list()) "
    }
   },
   "types_to_exclude": [
    "module",
    "function",
    "builtin_function_or_method",
    "instance",
    "_Feature"
   ],
   "window_display": false
  }
 },
 "nbformat": 4,
 "nbformat_minor": 2
}
