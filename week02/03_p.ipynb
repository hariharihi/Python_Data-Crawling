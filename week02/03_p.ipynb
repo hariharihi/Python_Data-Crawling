{
 "cells": [
  {
   "cell_type": "markdown",
   "id": "60ebcce2",
   "metadata": {},
   "source": [
    "# 반복문: for\n",
    "\n",
    "```\n",
    "for data in list():\n",
    "    실행코드\n",
    "    \n",
    "for data in range(반복횟수):\n",
    "    실행코드\n",
    "```"
   ]
  },
  {
   "cell_type": "markdown",
   "id": "cc053fc3",
   "metadata": {},
   "source": [
    "## list형"
   ]
  },
  {
   "cell_type": "code",
   "execution_count": 2,
   "id": "ddce2ab1",
   "metadata": {},
   "outputs": [
    {
     "name": "stdout",
     "output_type": "stream",
     "text": [
      "python\n",
      "java\n",
      "golang\n"
     ]
    }
   ],
   "source": [
    "#list형\n",
    "for i in [\"python\", \"java\", \"golang\"]:\n",
    "    print(i)"
   ]
  },
  {
   "cell_type": "code",
   "execution_count": 7,
   "id": "79e20174",
   "metadata": {},
   "outputs": [
    {
     "name": "stdout",
     "output_type": "stream",
     "text": [
      "list1\n",
      "list2\n",
      "list3\n"
     ]
    }
   ],
   "source": [
    "#list형\n",
    "data_list = [\"list1\", \"list2\", \"list3\"]\n",
    "\n",
    "for i in data_list:\n",
    "    print(i)"
   ]
  },
  {
   "cell_type": "code",
   "execution_count": 6,
   "id": "666b1b00",
   "metadata": {},
   "outputs": [
    {
     "data": {
      "text/plain": [
       "[0, 1, 2, 3, 4, 5, 6, 7, 8, 9]"
      ]
     },
     "execution_count": 6,
     "metadata": {},
     "output_type": "execute_result"
    }
   ],
   "source": [
    "list(range(10))"
   ]
  },
  {
   "cell_type": "markdown",
   "id": "ab440d48",
   "metadata": {},
   "source": [
    "## range형"
   ]
  },
  {
   "cell_type": "code",
   "execution_count": 8,
   "id": "3d2c457a",
   "metadata": {},
   "outputs": [
    {
     "name": "stdout",
     "output_type": "stream",
     "text": [
      "0\n",
      "1\n",
      "4\n",
      "9\n",
      "16\n",
      "25\n",
      "36\n",
      "49\n",
      "64\n",
      "81\n"
     ]
    }
   ],
   "source": [
    "#range형\n",
    "\n",
    "#range(10) == [0,1,2,3,4,5,6,7,8,9]\n",
    "for i in range(10): \n",
    "    print(i * i)"
   ]
  },
  {
   "cell_type": "code",
   "execution_count": 20,
   "id": "f36867e2",
   "metadata": {},
   "outputs": [
    {
     "name": "stdout",
     "output_type": "stream",
     "text": [
      "1\n",
      "3\n",
      "6\n",
      "10\n",
      "15\n",
      "21\n",
      "28\n",
      "36\n",
      "45\n",
      "55\n",
      "55\n"
     ]
    }
   ],
   "source": [
    "sum = 0\n",
    "for i in range(1, 11): #1부터 10까지\n",
    "    sum = sum + i #sum 변수 업데이트\n",
    "    print(sum)\n",
    "print(sum)"
   ]
  },
  {
   "cell_type": "markdown",
   "id": "10eed2b9",
   "metadata": {},
   "source": [
    "# 반복문: while"
   ]
  },
  {
   "cell_type": "code",
   "execution_count": 23,
   "id": "955b5ab7",
   "metadata": {},
   "outputs": [
    {
     "name": "stdout",
     "output_type": "stream",
     "text": [
      "0\n",
      "1\n",
      "2\n",
      "3\n"
     ]
    }
   ],
   "source": [
    "i = 0 \n",
    "while i <= 3: #True일 때만 아래 코드 실행\n",
    "    print(i)\n",
    "    i = i + 1"
   ]
  },
  {
   "cell_type": "code",
   "execution_count": 26,
   "id": "c6dea840",
   "metadata": {},
   "outputs": [
    {
     "name": "stdout",
     "output_type": "stream",
     "text": [
      "What's your name? hari\n",
      "Hi, hariSo, where is foo bar?\n",
      "What's your name? dave\n",
      "Hi, daveSo, where is foo bar?\n",
      "What's your name? hi\n",
      "Hi, hiSo, where is foo bar?\n",
      "What's your name? foo bar\n",
      "Hi, foo barSo, where is foo bar?\n"
     ]
    }
   ],
   "source": [
    "name = ''\n",
    "while name != \"foo bar\":\n",
    "    name = input(\"What's your name? \")\n",
    "    print(\"Hi, \" + name + \"So, where is foo bar?\")"
   ]
  },
  {
   "cell_type": "code",
   "execution_count": null,
   "id": "3642b217",
   "metadata": {},
   "outputs": [],
   "source": [
    "#무한반복\n",
    "\n",
    "# while 1:\n",
    "#     print(\"Hello world!\")"
   ]
  },
  {
   "cell_type": "markdown",
   "id": "1090571a",
   "metadata": {},
   "source": [
    "# 함수\n",
    "- y=f(x)\n",
    "    - x: 정의역 >> input(인자)\n",
    "    - y: 공역 >> output(결과값)"
   ]
  },
  {
   "cell_type": "code",
   "execution_count": 49,
   "id": "209d380c",
   "metadata": {},
   "outputs": [],
   "source": [
    "def func1(parameter1, parameter2): #define 할 때는 parameter\n",
    "    print(\"Hello\", parameter1)\n",
    "    print(\"Hello\", parameter2)\n",
    "    \n",
    "# func1(argument) #call할 때는 argument"
   ]
  },
  {
   "cell_type": "code",
   "execution_count": 51,
   "id": "51818533",
   "metadata": {},
   "outputs": [
    {
     "name": "stdout",
     "output_type": "stream",
     "text": [
      "Hello Python\n",
      "Hello Java\n"
     ]
    }
   ],
   "source": [
    "func1(\"Python\", \"Java\") "
   ]
  },
  {
   "cell_type": "code",
   "execution_count": 72,
   "id": "394c569f",
   "metadata": {},
   "outputs": [
    {
     "name": "stdout",
     "output_type": "stream",
     "text": [
      "3\n"
     ]
    }
   ],
   "source": [
    "def func2(data1, data2):\n",
    "    return data1 * data1 + data2\n",
    "\n",
    "y = func2(1, 2)\n",
    "print(y)"
   ]
  },
  {
   "cell_type": "code",
   "execution_count": 76,
   "id": "c65dc3ba",
   "metadata": {},
   "outputs": [
    {
     "name": "stdout",
     "output_type": "stream",
     "text": [
      "PythonJava\n"
     ]
    },
    {
     "data": {
      "text/plain": [
       "'PythonJava'"
      ]
     },
     "execution_count": 76,
     "metadata": {},
     "output_type": "execute_result"
    }
   ],
   "source": [
    "def func3(data1, data2):\n",
    "    return data1 + data2\n",
    "y = func3(\"Python\", \"Java\")\n",
    "print(y)\n",
    "y"
   ]
  },
  {
   "cell_type": "code",
   "execution_count": 77,
   "id": "bd64cd3c",
   "metadata": {},
   "outputs": [],
   "source": [
    "def func3(data1, data2):\n",
    "    print(data1 + data2)\n",
    "    return data1 + data2 #return까지만 출력된다\n",
    "    print(data1 + data2)"
   ]
  },
  {
   "cell_type": "code",
   "execution_count": 82,
   "id": "977b6514",
   "metadata": {},
   "outputs": [
    {
     "name": "stdout",
     "output_type": "stream",
     "text": [
      "PythonJava\n"
     ]
    },
    {
     "data": {
      "text/plain": [
       "'PythonJava'"
      ]
     },
     "execution_count": 82,
     "metadata": {},
     "output_type": "execute_result"
    }
   ],
   "source": [
    "y = func3(\"Python\", \"Java\")\n",
    "y"
   ]
  },
  {
   "cell_type": "code",
   "execution_count": 1,
   "id": "42e147c0",
   "metadata": {},
   "outputs": [
    {
     "name": "stdout",
     "output_type": "stream",
     "text": [
      "5\n"
     ]
    }
   ],
   "source": [
    "def awe_sum(a, b):\n",
    "    result = a + b\n",
    "    return result\n",
    "\n",
    "a = 2\n",
    "b = 3\n",
    "print(awe_sum(a, b))"
   ]
  },
  {
   "cell_type": "code",
   "execution_count": 86,
   "id": "c5f718c0",
   "metadata": {},
   "outputs": [
    {
     "name": "stdout",
     "output_type": "stream",
     "text": [
      "5\n"
     ]
    }
   ],
   "source": [
    "def awe_sum(a, b):\n",
    "    c = 1 #local variable(지역변수; 함수 내)\n",
    "    result = a + b\n",
    "    return result\n",
    "\n",
    "#global variable(전역변수; 함수 외)\n",
    "a = 1\n",
    "print(awe_sum(2, 3))"
   ]
  },
  {
   "cell_type": "code",
   "execution_count": 88,
   "id": "ea7b21ae",
   "metadata": {},
   "outputs": [
    {
     "data": {
      "text/plain": [
       "1"
      ]
     },
     "execution_count": 88,
     "metadata": {},
     "output_type": "execute_result"
    }
   ],
   "source": [
    "a"
   ]
  },
  {
   "cell_type": "code",
   "execution_count": 89,
   "id": "4899bdfb",
   "metadata": {},
   "outputs": [
    {
     "ename": "NameError",
     "evalue": "name 'c' is not defined",
     "output_type": "error",
     "traceback": [
      "\u001b[0;31m---------------------------------------------------------------------------\u001b[0m",
      "\u001b[0;31mNameError\u001b[0m                                 Traceback (most recent call last)",
      "\u001b[0;32m/var/folders/83/p3mr58fn4_l5138tp6pph8jh0000gn/T/ipykernel_2705/3235490055.py\u001b[0m in \u001b[0;36m<module>\u001b[0;34m\u001b[0m\n\u001b[0;32m----> 1\u001b[0;31m \u001b[0mc\u001b[0m\u001b[0;34m\u001b[0m\u001b[0;34m\u001b[0m\u001b[0m\n\u001b[0m",
      "\u001b[0;31mNameError\u001b[0m: name 'c' is not defined"
     ]
    }
   ],
   "source": [
    "c #지역변수이기에 다시 불러올 수 없음"
   ]
  },
  {
   "cell_type": "code",
   "execution_count": 90,
   "id": "d5b28eb3",
   "metadata": {},
   "outputs": [
    {
     "name": "stdout",
     "output_type": "stream",
     "text": [
      "hello\n"
     ]
    }
   ],
   "source": [
    "def print_hello():\n",
    "    return \"hello\"\n",
    "\n",
    "result_hello = print_hello()\n",
    "print(result_hello)"
   ]
  },
  {
   "cell_type": "code",
   "execution_count": 92,
   "id": "c5f53624",
   "metadata": {},
   "outputs": [
    {
     "name": "stdout",
     "output_type": "stream",
     "text": [
      "This is function without return for 1 times.\n"
     ]
    }
   ],
   "source": [
    "def func_wo_return(a):\n",
    "    print(\"This is function without return for \" + str(a) + \" times.\") #숫자를 문자로 바꿔주어야 한다\n",
    "    \n",
    "func_wo_return(1)"
   ]
  },
  {
   "cell_type": "code",
   "execution_count": 4,
   "id": "64c02e81",
   "metadata": {},
   "outputs": [
    {
     "name": "stdout",
     "output_type": "stream",
     "text": [
      "This is function without return for 1 times.\n"
     ]
    }
   ],
   "source": [
    "# OR\n",
    "def func_wo_return(a):\n",
    "    print(\"This is function without return for\", a, \"times.\") #comma(,) 사용하기\n",
    "    \n",
    "func_wo_return(1)"
   ]
  },
  {
   "cell_type": "code",
   "execution_count": 7,
   "id": "3e1ec22a",
   "metadata": {},
   "outputs": [
    {
     "data": {
      "text/plain": [
       "(1, 2)"
      ]
     },
     "execution_count": 7,
     "metadata": {},
     "output_type": "execute_result"
    }
   ],
   "source": [
    "def mul_return(a):\n",
    "    b = a + 1\n",
    "    return a, b #다른 데서는 안되는데 Python에서만 된다\n",
    "\n",
    "mul_return(1) #tuple 형태"
   ]
  },
  {
   "cell_type": "code",
   "execution_count": 103,
   "id": "1a0ef7f5",
   "metadata": {},
   "outputs": [],
   "source": [
    "def id_check(id):\n",
    "    if id == \"admin\":\n",
    "        print(\"invalid id: admin\")\n",
    "        return #return값 나오면 다음값은 출력 안 됨 >> 함수 종료\n",
    "    print(\"valid id: \", id)"
   ]
  },
  {
   "cell_type": "code",
   "execution_count": null,
   "id": "1f046b31",
   "metadata": {},
   "outputs": [],
   "source": [
    "def re_money(money):\n",
    "    while money > 500:\n",
    "        num5 = money // 500\n",
    "        money - (500 * num5)\n",
    "    num1 = (money % 500) / 100\n",
    "    return num5\n",
    "\n",
    "re_money(10000)"
   ]
  },
  {
   "cell_type": "code",
   "execution_count": null,
   "id": "1641d4d8",
   "metadata": {},
   "outputs": [],
   "source": []
  }
 ],
 "metadata": {
  "kernelspec": {
   "display_name": "Python 3 (ipykernel)",
   "language": "python",
   "name": "python3"
  },
  "language_info": {
   "codemirror_mode": {
    "name": "ipython",
    "version": 3
   },
   "file_extension": ".py",
   "mimetype": "text/x-python",
   "name": "python",
   "nbconvert_exporter": "python",
   "pygments_lexer": "ipython3",
   "version": "3.9.7"
  },
  "toc": {
   "base_numbering": 1,
   "nav_menu": {},
   "number_sections": true,
   "sideBar": true,
   "skip_h1_title": false,
   "title_cell": "Table of Contents",
   "title_sidebar": "Contents",
   "toc_cell": false,
   "toc_position": {},
   "toc_section_display": true,
   "toc_window_display": false
  },
  "varInspector": {
   "cols": {
    "lenName": 16,
    "lenType": 16,
    "lenVar": 40
   },
   "kernels_config": {
    "python": {
     "delete_cmd_postfix": "",
     "delete_cmd_prefix": "del ",
     "library": "var_list.py",
     "varRefreshCmd": "print(var_dic_list())"
    },
    "r": {
     "delete_cmd_postfix": ") ",
     "delete_cmd_prefix": "rm(",
     "library": "var_list.r",
     "varRefreshCmd": "cat(var_dic_list()) "
    }
   },
   "types_to_exclude": [
    "module",
    "function",
    "builtin_function_or_method",
    "instance",
    "_Feature"
   ],
   "window_display": false
  }
 },
 "nbformat": 4,
 "nbformat_minor": 5
}
